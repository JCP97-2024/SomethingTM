{
 "cells": [
  {
   "cell_type": "code",
   "execution_count": 14,
   "metadata": {},
   "outputs": [
    {
     "name": "stdin",
     "output_type": "stream",
     "text": [
      "Enter your name here:\n",
      ">>> ss\n",
      "How old are you?\n",
      ">>> 23\n"
     ]
    },
    {
     "name": "stdout",
     "output_type": "stream",
     "text": [
      "You are an adult\n",
      "You are  Eligible  for the Vote.\n"
     ]
    }
   ],
   "source": [
    "\n",
    "#class Part1:\n",
    "#def interact(self):\n",
    "name = input(\"Enter your name here:\\n>>>\")\n",
    "verified = False\n",
    "age = input(\"How old are you?\\n>>>\")\n",
    "\n",
    "while not verified: \n",
    "    \n",
    "    try:\n",
    "        ageInt = int(age)\n",
    "    except ValueError:\n",
    "        age = input(\"Invalid Entry\\nPlease enter your age:\\n>>>\")\n",
    "        continue\n",
    "    if isinstance(ageInt,int):\n",
    "        verified = True\n",
    "if ageInt>=18:\n",
    "    print(\"You are an adult\")\n",
    "    status=\"Eligible\"\n",
    "elif ageInt<=0:\n",
    "    print(\"You don't exist\")\n",
    "    status=\"Not Eligible\"\n",
    "else:\n",
    "    print(\"You are a child\")\n",
    "    age_left_in_years = 18-ageInt \n",
    "    status=\"Not Eligible\"\n",
    "    print('You have ' + str(age_left_in_years) + ' years left from now to be Eligible for the Vote.')\n",
    "            \n",
    "print(\"You are \",status,\" for the Vote.\")\n",
    "    \n",
    "    \n",
    "\n",
    "        \n",
    "\n",
    "\n",
    "\n",
    "    "
   ]
  },
  {
   "cell_type": "code",
   "execution_count": null,
   "metadata": {},
   "outputs": [],
   "source": []
  },
  {
   "cell_type": "code",
   "execution_count": null,
   "metadata": {},
   "outputs": [],
   "source": []
  }
 ],
 "metadata": {
  "kernelspec": {
   "display_name": "Python 3",
   "language": "python",
   "name": "python3"
  },
  "language_info": {
   "codemirror_mode": {
    "name": "ipython",
    "version": 3
   },
   "file_extension": ".py",
   "mimetype": "text/x-python",
   "name": "python",
   "nbconvert_exporter": "python",
   "pygments_lexer": "ipython3",
   "version": "3.8.5"
  }
 },
 "nbformat": 4,
 "nbformat_minor": 5
}
