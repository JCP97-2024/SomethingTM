{
 "cells": [
  {
   "cell_type": "code",
   "execution_count": 1,
   "metadata": {},
   "outputs": [],
   "source": [
    "class Part1:\n",
    "    def interact(self):\n",
    "        name = input(\"Enter your name here:\\n>>>\")\n",
    "        age = input(\"How old are you?\\n>>>\")\n",
    "        verified = False\n",
    "\n",
    "        while not verified:\n",
    "            try:\n",
    "                age = int(age)\n",
    "                verified = True\n",
    "            except:\n",
    "                age = input(\"Invalid Entry\\nPlease enter your age:\\n>>>\")\n",
    "        \n",
    "        if age>=18:\n",
    "            print(\"You are an adult\")\n",
    "        elif age<=0:\n",
    "            print(\"You don't exist\")\n",
    "        else:\n",
    "            print(\"You are a child\")"
   ]
  },
  {
   "cell_type": "code",
   "execution_count": null,
   "metadata": {},
   "outputs": [],
   "source": [
    "\n",
    "\n"
   ]
  }
 ],
 "metadata": {
  "kernelspec": {
   "display_name": "Python 3",
   "language": "python",
   "name": "python3"
  },
  "language_info": {
   "codemirror_mode": {
    "name": "ipython",
    "version": 3
   },
   "file_extension": ".py",
   "mimetype": "text/x-python",
   "name": "python",
   "nbconvert_exporter": "python",
   "pygments_lexer": "ipython3",
   "version": "3.8.5"
  }
 },
 "nbformat": 4,
 "nbformat_minor": 4
}
